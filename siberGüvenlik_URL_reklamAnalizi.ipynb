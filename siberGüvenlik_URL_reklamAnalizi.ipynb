{
  "nbformat": 4,
  "nbformat_minor": 0,
  "metadata": {
    "colab": {
      "provenance": []
    },
    "kernelspec": {
      "name": "python3",
      "display_name": "Python 3"
    },
    "language_info": {
      "name": "python"
    }
  },
  "cells": [
    {
      "cell_type": "code",
      "execution_count": null,
      "metadata": {
        "colab": {
          "base_uri": "https://localhost:8080/"
        },
        "id": "EKrlraBMZ492",
        "outputId": "b41c399f-a507-43a1-89c4-3c5bc53fb139"
      },
      "outputs": [
        {
          "output_type": "stream",
          "name": "stdout",
          "text": [
            "Mounted at /content/drive\n"
          ]
        }
      ],
      "source": [
        "from google.colab import drive\n",
        "drive.mount(\"/content/drive\")"
      ]
    },
    {
      "cell_type": "code",
      "source": [
        "!pip install kaggle"
      ],
      "metadata": {
        "colab": {
          "base_uri": "https://localhost:8080/"
        },
        "id": "XbVTenxwaZje",
        "outputId": "3028866d-a98e-42a9-bf37-8dcf076e3b7c"
      },
      "execution_count": null,
      "outputs": [
        {
          "output_type": "stream",
          "name": "stdout",
          "text": [
            "Looking in indexes: https://pypi.org/simple, https://us-python.pkg.dev/colab-wheels/public/simple/\n",
            "Requirement already satisfied: kaggle in /usr/local/lib/python3.8/dist-packages (1.5.12)\n",
            "Requirement already satisfied: urllib3 in /usr/local/lib/python3.8/dist-packages (from kaggle) (1.24.3)\n",
            "Requirement already satisfied: tqdm in /usr/local/lib/python3.8/dist-packages (from kaggle) (4.64.1)\n",
            "Requirement already satisfied: python-dateutil in /usr/local/lib/python3.8/dist-packages (from kaggle) (2.8.2)\n",
            "Requirement already satisfied: certifi in /usr/local/lib/python3.8/dist-packages (from kaggle) (2022.12.7)\n",
            "Requirement already satisfied: six>=1.10 in /usr/local/lib/python3.8/dist-packages (from kaggle) (1.15.0)\n",
            "Requirement already satisfied: python-slugify in /usr/local/lib/python3.8/dist-packages (from kaggle) (7.0.0)\n",
            "Requirement already satisfied: requests in /usr/local/lib/python3.8/dist-packages (from kaggle) (2.23.0)\n",
            "Requirement already satisfied: text-unidecode>=1.3 in /usr/local/lib/python3.8/dist-packages (from python-slugify->kaggle) (1.3)\n",
            "Requirement already satisfied: chardet<4,>=3.0.2 in /usr/local/lib/python3.8/dist-packages (from requests->kaggle) (3.0.4)\n",
            "Requirement already satisfied: idna<3,>=2.5 in /usr/local/lib/python3.8/dist-packages (from requests->kaggle) (2.10)\n"
          ]
        }
      ]
    },
    {
      "cell_type": "code",
      "source": [
        "! mkdir ~/.kaggle"
      ],
      "metadata": {
        "id": "V75yGpA7a21M"
      },
      "execution_count": null,
      "outputs": []
    },
    {
      "cell_type": "code",
      "source": [
        "! cp kaggle.json ~/.kaggle/"
      ],
      "metadata": {
        "id": "qfwzy_5VajdM"
      },
      "execution_count": null,
      "outputs": []
    },
    {
      "cell_type": "code",
      "source": [
        "! chmod 600 ~/.kaggle/kaggle.json"
      ],
      "metadata": {
        "id": "WxqfVJ6Xajxj"
      },
      "execution_count": null,
      "outputs": []
    },
    {
      "cell_type": "code",
      "source": [
        "! kaggle datasets download -d shibumohapatra/book-my-show"
      ],
      "metadata": {
        "colab": {
          "base_uri": "https://localhost:8080/"
        },
        "id": "iuu7HGt_aj0S",
        "outputId": "9f022c53-1c03-4e29-d512-9397087aa1d4"
      },
      "execution_count": null,
      "outputs": [
        {
          "output_type": "stream",
          "name": "stdout",
          "text": [
            "Downloading book-my-show.zip to /content\n",
            "100% 107k/107k [00:00<00:00, 376kB/s]\n",
            "100% 107k/107k [00:00<00:00, 376kB/s]\n"
          ]
        }
      ]
    },
    {
      "cell_type": "code",
      "source": [
        "!unzip book-my-show.zip"
      ],
      "metadata": {
        "colab": {
          "base_uri": "https://localhost:8080/"
        },
        "id": "Ct6kUOfUbvNA",
        "outputId": "d0628d52-2213-4b7b-92b0-e517de20c95c"
      },
      "execution_count": null,
      "outputs": [
        {
          "output_type": "stream",
          "name": "stdout",
          "text": [
            "Archive:  book-my-show.zip\n",
            "  inflating: dataset.csv             \n"
          ]
        }
      ]
    },
    {
      "cell_type": "code",
      "source": [
        "import matplotlib.pyplot as plt\n",
        "import numpy as np\n",
        "import tensorflow as tf\n",
        "import pandas as pd\n",
        "\n",
        "from sklearn.neighbors import KNeighborsClassifier\n",
        "from sklearn.linear_model import LogisticRegression\n",
        "from sklearn.naive_bayes import GaussianNB\n",
        "from sklearn import tree\n",
        "from sklearn.ensemble import RandomForestClassifier\n",
        "from sklearn.svm import SVC\n",
        "from sklearn.metrics import confusion_matrix, classification_report, accuracy_score, f1_score\n",
        "from sklearn.model_selection import train_test_split\n",
        "from sklearn.model_selection import cross_val_score, LeaveOneOut, KFold\n",
        "\n",
        "\n",
        "import statistics"
      ],
      "metadata": {
        "id": "FT2ACaZUbHQo"
      },
      "execution_count": null,
      "outputs": []
    },
    {
      "cell_type": "code",
      "source": [
        "data = pd.read_csv(\"dataset.csv\")\n",
        "data.head()"
      ],
      "metadata": {
        "colab": {
          "base_uri": "https://localhost:8080/",
          "height": 299
        },
        "id": "lOdzCu4Mb1uk",
        "outputId": "119eef77-68ce-4d39-909e-ef16dc5a3d3d"
      },
      "execution_count": null,
      "outputs": [
        {
          "output_type": "execute_result",
          "data": {
            "text/plain": [
              "  index  having_IPhaving_IP_Address  URLURL_Length  Shortining_Service  \\\n",
              "0     1                           0              1                   1   \n",
              "1     2                           1              1                   1   \n",
              "2     3                           1             -1                   1   \n",
              "3     4                           1             -1                   1   \n",
              "4     5                           1             -1                   0   \n",
              "\n",
              "   having_At_Symbol  double_slash_redirecting  Prefix_Suffix  \\\n",
              "0                 1                         0              0   \n",
              "1                 1                         1              0   \n",
              "2                 1                         1              0   \n",
              "3                 1                         1              0   \n",
              "4                 1                         1              0   \n",
              "\n",
              "   having_Sub_Domain  SSLfinal_State  Domain_registeration_length  ...  \\\n",
              "0                  0               0                            0  ...   \n",
              "1                 -1               1                            0  ...   \n",
              "2                  0               0                            0  ...   \n",
              "3                  0               0                            1  ...   \n",
              "4                  1               1                            0  ...   \n",
              "\n",
              "   popUpWidnow  Iframe  age_of_domain  DNSRecord  web_traffic  Page_Rank  \\\n",
              "0            1       1              0          0            0          0   \n",
              "1            1       1              0          0           -1          0   \n",
              "2            1       1              1          0            1          0   \n",
              "3            1       1              0          0            1          0   \n",
              "4            0       1              0          0           -1          0   \n",
              "\n",
              "   Google_Index  Links_pointing_to_page  Statistical_report  Result  \n",
              "0             1                       1                   0       0  \n",
              "1             1                       1                   1       0  \n",
              "2             1                      -1                   0       0  \n",
              "3             1                       0                   1       0  \n",
              "4             1                       1                   1       1  \n",
              "\n",
              "[5 rows x 32 columns]"
            ],
            "text/html": [
              "\n",
              "  <div id=\"df-53b7c86b-faac-401a-ad69-aaffffe1fe75\">\n",
              "    <div class=\"colab-df-container\">\n",
              "      <div>\n",
              "<style scoped>\n",
              "    .dataframe tbody tr th:only-of-type {\n",
              "        vertical-align: middle;\n",
              "    }\n",
              "\n",
              "    .dataframe tbody tr th {\n",
              "        vertical-align: top;\n",
              "    }\n",
              "\n",
              "    .dataframe thead th {\n",
              "        text-align: right;\n",
              "    }\n",
              "</style>\n",
              "<table border=\"1\" class=\"dataframe\">\n",
              "  <thead>\n",
              "    <tr style=\"text-align: right;\">\n",
              "      <th></th>\n",
              "      <th>index</th>\n",
              "      <th>having_IPhaving_IP_Address</th>\n",
              "      <th>URLURL_Length</th>\n",
              "      <th>Shortining_Service</th>\n",
              "      <th>having_At_Symbol</th>\n",
              "      <th>double_slash_redirecting</th>\n",
              "      <th>Prefix_Suffix</th>\n",
              "      <th>having_Sub_Domain</th>\n",
              "      <th>SSLfinal_State</th>\n",
              "      <th>Domain_registeration_length</th>\n",
              "      <th>...</th>\n",
              "      <th>popUpWidnow</th>\n",
              "      <th>Iframe</th>\n",
              "      <th>age_of_domain</th>\n",
              "      <th>DNSRecord</th>\n",
              "      <th>web_traffic</th>\n",
              "      <th>Page_Rank</th>\n",
              "      <th>Google_Index</th>\n",
              "      <th>Links_pointing_to_page</th>\n",
              "      <th>Statistical_report</th>\n",
              "      <th>Result</th>\n",
              "    </tr>\n",
              "  </thead>\n",
              "  <tbody>\n",
              "    <tr>\n",
              "      <th>0</th>\n",
              "      <td>1</td>\n",
              "      <td>0</td>\n",
              "      <td>1</td>\n",
              "      <td>1</td>\n",
              "      <td>1</td>\n",
              "      <td>0</td>\n",
              "      <td>0</td>\n",
              "      <td>0</td>\n",
              "      <td>0</td>\n",
              "      <td>0</td>\n",
              "      <td>...</td>\n",
              "      <td>1</td>\n",
              "      <td>1</td>\n",
              "      <td>0</td>\n",
              "      <td>0</td>\n",
              "      <td>0</td>\n",
              "      <td>0</td>\n",
              "      <td>1</td>\n",
              "      <td>1</td>\n",
              "      <td>0</td>\n",
              "      <td>0</td>\n",
              "    </tr>\n",
              "    <tr>\n",
              "      <th>1</th>\n",
              "      <td>2</td>\n",
              "      <td>1</td>\n",
              "      <td>1</td>\n",
              "      <td>1</td>\n",
              "      <td>1</td>\n",
              "      <td>1</td>\n",
              "      <td>0</td>\n",
              "      <td>-1</td>\n",
              "      <td>1</td>\n",
              "      <td>0</td>\n",
              "      <td>...</td>\n",
              "      <td>1</td>\n",
              "      <td>1</td>\n",
              "      <td>0</td>\n",
              "      <td>0</td>\n",
              "      <td>-1</td>\n",
              "      <td>0</td>\n",
              "      <td>1</td>\n",
              "      <td>1</td>\n",
              "      <td>1</td>\n",
              "      <td>0</td>\n",
              "    </tr>\n",
              "    <tr>\n",
              "      <th>2</th>\n",
              "      <td>3</td>\n",
              "      <td>1</td>\n",
              "      <td>-1</td>\n",
              "      <td>1</td>\n",
              "      <td>1</td>\n",
              "      <td>1</td>\n",
              "      <td>0</td>\n",
              "      <td>0</td>\n",
              "      <td>0</td>\n",
              "      <td>0</td>\n",
              "      <td>...</td>\n",
              "      <td>1</td>\n",
              "      <td>1</td>\n",
              "      <td>1</td>\n",
              "      <td>0</td>\n",
              "      <td>1</td>\n",
              "      <td>0</td>\n",
              "      <td>1</td>\n",
              "      <td>-1</td>\n",
              "      <td>0</td>\n",
              "      <td>0</td>\n",
              "    </tr>\n",
              "    <tr>\n",
              "      <th>3</th>\n",
              "      <td>4</td>\n",
              "      <td>1</td>\n",
              "      <td>-1</td>\n",
              "      <td>1</td>\n",
              "      <td>1</td>\n",
              "      <td>1</td>\n",
              "      <td>0</td>\n",
              "      <td>0</td>\n",
              "      <td>0</td>\n",
              "      <td>1</td>\n",
              "      <td>...</td>\n",
              "      <td>1</td>\n",
              "      <td>1</td>\n",
              "      <td>0</td>\n",
              "      <td>0</td>\n",
              "      <td>1</td>\n",
              "      <td>0</td>\n",
              "      <td>1</td>\n",
              "      <td>0</td>\n",
              "      <td>1</td>\n",
              "      <td>0</td>\n",
              "    </tr>\n",
              "    <tr>\n",
              "      <th>4</th>\n",
              "      <td>5</td>\n",
              "      <td>1</td>\n",
              "      <td>-1</td>\n",
              "      <td>0</td>\n",
              "      <td>1</td>\n",
              "      <td>1</td>\n",
              "      <td>0</td>\n",
              "      <td>1</td>\n",
              "      <td>1</td>\n",
              "      <td>0</td>\n",
              "      <td>...</td>\n",
              "      <td>0</td>\n",
              "      <td>1</td>\n",
              "      <td>0</td>\n",
              "      <td>0</td>\n",
              "      <td>-1</td>\n",
              "      <td>0</td>\n",
              "      <td>1</td>\n",
              "      <td>1</td>\n",
              "      <td>1</td>\n",
              "      <td>1</td>\n",
              "    </tr>\n",
              "  </tbody>\n",
              "</table>\n",
              "<p>5 rows × 32 columns</p>\n",
              "</div>\n",
              "      <button class=\"colab-df-convert\" onclick=\"convertToInteractive('df-53b7c86b-faac-401a-ad69-aaffffe1fe75')\"\n",
              "              title=\"Convert this dataframe to an interactive table.\"\n",
              "              style=\"display:none;\">\n",
              "        \n",
              "  <svg xmlns=\"http://www.w3.org/2000/svg\" height=\"24px\"viewBox=\"0 0 24 24\"\n",
              "       width=\"24px\">\n",
              "    <path d=\"M0 0h24v24H0V0z\" fill=\"none\"/>\n",
              "    <path d=\"M18.56 5.44l.94 2.06.94-2.06 2.06-.94-2.06-.94-.94-2.06-.94 2.06-2.06.94zm-11 1L8.5 8.5l.94-2.06 2.06-.94-2.06-.94L8.5 2.5l-.94 2.06-2.06.94zm10 10l.94 2.06.94-2.06 2.06-.94-2.06-.94-.94-2.06-.94 2.06-2.06.94z\"/><path d=\"M17.41 7.96l-1.37-1.37c-.4-.4-.92-.59-1.43-.59-.52 0-1.04.2-1.43.59L10.3 9.45l-7.72 7.72c-.78.78-.78 2.05 0 2.83L4 21.41c.39.39.9.59 1.41.59.51 0 1.02-.2 1.41-.59l7.78-7.78 2.81-2.81c.8-.78.8-2.07 0-2.86zM5.41 20L4 18.59l7.72-7.72 1.47 1.35L5.41 20z\"/>\n",
              "  </svg>\n",
              "      </button>\n",
              "      \n",
              "  <style>\n",
              "    .colab-df-container {\n",
              "      display:flex;\n",
              "      flex-wrap:wrap;\n",
              "      gap: 12px;\n",
              "    }\n",
              "\n",
              "    .colab-df-convert {\n",
              "      background-color: #E8F0FE;\n",
              "      border: none;\n",
              "      border-radius: 50%;\n",
              "      cursor: pointer;\n",
              "      display: none;\n",
              "      fill: #1967D2;\n",
              "      height: 32px;\n",
              "      padding: 0 0 0 0;\n",
              "      width: 32px;\n",
              "    }\n",
              "\n",
              "    .colab-df-convert:hover {\n",
              "      background-color: #E2EBFA;\n",
              "      box-shadow: 0px 1px 2px rgba(60, 64, 67, 0.3), 0px 1px 3px 1px rgba(60, 64, 67, 0.15);\n",
              "      fill: #174EA6;\n",
              "    }\n",
              "\n",
              "    [theme=dark] .colab-df-convert {\n",
              "      background-color: #3B4455;\n",
              "      fill: #D2E3FC;\n",
              "    }\n",
              "\n",
              "    [theme=dark] .colab-df-convert:hover {\n",
              "      background-color: #434B5C;\n",
              "      box-shadow: 0px 1px 3px 1px rgba(0, 0, 0, 0.15);\n",
              "      filter: drop-shadow(0px 1px 2px rgba(0, 0, 0, 0.3));\n",
              "      fill: #FFFFFF;\n",
              "    }\n",
              "  </style>\n",
              "\n",
              "      <script>\n",
              "        const buttonEl =\n",
              "          document.querySelector('#df-53b7c86b-faac-401a-ad69-aaffffe1fe75 button.colab-df-convert');\n",
              "        buttonEl.style.display =\n",
              "          google.colab.kernel.accessAllowed ? 'block' : 'none';\n",
              "\n",
              "        async function convertToInteractive(key) {\n",
              "          const element = document.querySelector('#df-53b7c86b-faac-401a-ad69-aaffffe1fe75');\n",
              "          const dataTable =\n",
              "            await google.colab.kernel.invokeFunction('convertToInteractive',\n",
              "                                                     [key], {});\n",
              "          if (!dataTable) return;\n",
              "\n",
              "          const docLinkHtml = 'Like what you see? Visit the ' +\n",
              "            '<a target=\"_blank\" href=https://colab.research.google.com/notebooks/data_table.ipynb>data table notebook</a>'\n",
              "            + ' to learn more about interactive tables.';\n",
              "          element.innerHTML = '';\n",
              "          dataTable['output_type'] = 'display_data';\n",
              "          await google.colab.output.renderOutput(dataTable, element);\n",
              "          const docLink = document.createElement('div');\n",
              "          docLink.innerHTML = docLinkHtml;\n",
              "          element.appendChild(docLink);\n",
              "        }\n",
              "      </script>\n",
              "    </div>\n",
              "  </div>\n",
              "  "
            ]
          },
          "metadata": {},
          "execution_count": 9
        }
      ]
    },
    {
      "cell_type": "code",
      "source": [
        "x = data.iloc[:,1:-1]\n",
        "x.head()"
      ],
      "metadata": {
        "colab": {
          "base_uri": "https://localhost:8080/",
          "height": 299
        },
        "id": "Z8aY9ikEb-FB",
        "outputId": "044a4015-2eb3-4488-ba80-95eae13ae516"
      },
      "execution_count": null,
      "outputs": [
        {
          "output_type": "execute_result",
          "data": {
            "text/plain": [
              "   having_IPhaving_IP_Address  URLURL_Length  Shortining_Service  \\\n",
              "0                           0              1                   1   \n",
              "1                           1              1                   1   \n",
              "2                           1             -1                   1   \n",
              "3                           1             -1                   1   \n",
              "4                           1             -1                   0   \n",
              "\n",
              "   having_At_Symbol  double_slash_redirecting  Prefix_Suffix  \\\n",
              "0                 1                         0              0   \n",
              "1                 1                         1              0   \n",
              "2                 1                         1              0   \n",
              "3                 1                         1              0   \n",
              "4                 1                         1              0   \n",
              "\n",
              "   having_Sub_Domain  SSLfinal_State  Domain_registeration_length  Favicon  \\\n",
              "0                  0               0                            0        1   \n",
              "1                 -1               1                            0        1   \n",
              "2                  0               0                            0        1   \n",
              "3                  0               0                            1        1   \n",
              "4                  1               1                            0        1   \n",
              "\n",
              "   ...  RightClick  popUpWidnow  Iframe  age_of_domain  DNSRecord  \\\n",
              "0  ...           1            1       1              0          0   \n",
              "1  ...           1            1       1              0          0   \n",
              "2  ...           1            1       1              1          0   \n",
              "3  ...           1            1       1              0          0   \n",
              "4  ...           1            0       1              0          0   \n",
              "\n",
              "   web_traffic  Page_Rank  Google_Index  Links_pointing_to_page  \\\n",
              "0            0          0             1                       1   \n",
              "1           -1          0             1                       1   \n",
              "2            1          0             1                      -1   \n",
              "3            1          0             1                       0   \n",
              "4           -1          0             1                       1   \n",
              "\n",
              "   Statistical_report  \n",
              "0                   0  \n",
              "1                   1  \n",
              "2                   0  \n",
              "3                   1  \n",
              "4                   1  \n",
              "\n",
              "[5 rows x 30 columns]"
            ],
            "text/html": [
              "\n",
              "  <div id=\"df-367ed3ff-8bf3-491e-a771-cdaa1bc5f293\">\n",
              "    <div class=\"colab-df-container\">\n",
              "      <div>\n",
              "<style scoped>\n",
              "    .dataframe tbody tr th:only-of-type {\n",
              "        vertical-align: middle;\n",
              "    }\n",
              "\n",
              "    .dataframe tbody tr th {\n",
              "        vertical-align: top;\n",
              "    }\n",
              "\n",
              "    .dataframe thead th {\n",
              "        text-align: right;\n",
              "    }\n",
              "</style>\n",
              "<table border=\"1\" class=\"dataframe\">\n",
              "  <thead>\n",
              "    <tr style=\"text-align: right;\">\n",
              "      <th></th>\n",
              "      <th>having_IPhaving_IP_Address</th>\n",
              "      <th>URLURL_Length</th>\n",
              "      <th>Shortining_Service</th>\n",
              "      <th>having_At_Symbol</th>\n",
              "      <th>double_slash_redirecting</th>\n",
              "      <th>Prefix_Suffix</th>\n",
              "      <th>having_Sub_Domain</th>\n",
              "      <th>SSLfinal_State</th>\n",
              "      <th>Domain_registeration_length</th>\n",
              "      <th>Favicon</th>\n",
              "      <th>...</th>\n",
              "      <th>RightClick</th>\n",
              "      <th>popUpWidnow</th>\n",
              "      <th>Iframe</th>\n",
              "      <th>age_of_domain</th>\n",
              "      <th>DNSRecord</th>\n",
              "      <th>web_traffic</th>\n",
              "      <th>Page_Rank</th>\n",
              "      <th>Google_Index</th>\n",
              "      <th>Links_pointing_to_page</th>\n",
              "      <th>Statistical_report</th>\n",
              "    </tr>\n",
              "  </thead>\n",
              "  <tbody>\n",
              "    <tr>\n",
              "      <th>0</th>\n",
              "      <td>0</td>\n",
              "      <td>1</td>\n",
              "      <td>1</td>\n",
              "      <td>1</td>\n",
              "      <td>0</td>\n",
              "      <td>0</td>\n",
              "      <td>0</td>\n",
              "      <td>0</td>\n",
              "      <td>0</td>\n",
              "      <td>1</td>\n",
              "      <td>...</td>\n",
              "      <td>1</td>\n",
              "      <td>1</td>\n",
              "      <td>1</td>\n",
              "      <td>0</td>\n",
              "      <td>0</td>\n",
              "      <td>0</td>\n",
              "      <td>0</td>\n",
              "      <td>1</td>\n",
              "      <td>1</td>\n",
              "      <td>0</td>\n",
              "    </tr>\n",
              "    <tr>\n",
              "      <th>1</th>\n",
              "      <td>1</td>\n",
              "      <td>1</td>\n",
              "      <td>1</td>\n",
              "      <td>1</td>\n",
              "      <td>1</td>\n",
              "      <td>0</td>\n",
              "      <td>-1</td>\n",
              "      <td>1</td>\n",
              "      <td>0</td>\n",
              "      <td>1</td>\n",
              "      <td>...</td>\n",
              "      <td>1</td>\n",
              "      <td>1</td>\n",
              "      <td>1</td>\n",
              "      <td>0</td>\n",
              "      <td>0</td>\n",
              "      <td>-1</td>\n",
              "      <td>0</td>\n",
              "      <td>1</td>\n",
              "      <td>1</td>\n",
              "      <td>1</td>\n",
              "    </tr>\n",
              "    <tr>\n",
              "      <th>2</th>\n",
              "      <td>1</td>\n",
              "      <td>-1</td>\n",
              "      <td>1</td>\n",
              "      <td>1</td>\n",
              "      <td>1</td>\n",
              "      <td>0</td>\n",
              "      <td>0</td>\n",
              "      <td>0</td>\n",
              "      <td>0</td>\n",
              "      <td>1</td>\n",
              "      <td>...</td>\n",
              "      <td>1</td>\n",
              "      <td>1</td>\n",
              "      <td>1</td>\n",
              "      <td>1</td>\n",
              "      <td>0</td>\n",
              "      <td>1</td>\n",
              "      <td>0</td>\n",
              "      <td>1</td>\n",
              "      <td>-1</td>\n",
              "      <td>0</td>\n",
              "    </tr>\n",
              "    <tr>\n",
              "      <th>3</th>\n",
              "      <td>1</td>\n",
              "      <td>-1</td>\n",
              "      <td>1</td>\n",
              "      <td>1</td>\n",
              "      <td>1</td>\n",
              "      <td>0</td>\n",
              "      <td>0</td>\n",
              "      <td>0</td>\n",
              "      <td>1</td>\n",
              "      <td>1</td>\n",
              "      <td>...</td>\n",
              "      <td>1</td>\n",
              "      <td>1</td>\n",
              "      <td>1</td>\n",
              "      <td>0</td>\n",
              "      <td>0</td>\n",
              "      <td>1</td>\n",
              "      <td>0</td>\n",
              "      <td>1</td>\n",
              "      <td>0</td>\n",
              "      <td>1</td>\n",
              "    </tr>\n",
              "    <tr>\n",
              "      <th>4</th>\n",
              "      <td>1</td>\n",
              "      <td>-1</td>\n",
              "      <td>0</td>\n",
              "      <td>1</td>\n",
              "      <td>1</td>\n",
              "      <td>0</td>\n",
              "      <td>1</td>\n",
              "      <td>1</td>\n",
              "      <td>0</td>\n",
              "      <td>1</td>\n",
              "      <td>...</td>\n",
              "      <td>1</td>\n",
              "      <td>0</td>\n",
              "      <td>1</td>\n",
              "      <td>0</td>\n",
              "      <td>0</td>\n",
              "      <td>-1</td>\n",
              "      <td>0</td>\n",
              "      <td>1</td>\n",
              "      <td>1</td>\n",
              "      <td>1</td>\n",
              "    </tr>\n",
              "  </tbody>\n",
              "</table>\n",
              "<p>5 rows × 30 columns</p>\n",
              "</div>\n",
              "      <button class=\"colab-df-convert\" onclick=\"convertToInteractive('df-367ed3ff-8bf3-491e-a771-cdaa1bc5f293')\"\n",
              "              title=\"Convert this dataframe to an interactive table.\"\n",
              "              style=\"display:none;\">\n",
              "        \n",
              "  <svg xmlns=\"http://www.w3.org/2000/svg\" height=\"24px\"viewBox=\"0 0 24 24\"\n",
              "       width=\"24px\">\n",
              "    <path d=\"M0 0h24v24H0V0z\" fill=\"none\"/>\n",
              "    <path d=\"M18.56 5.44l.94 2.06.94-2.06 2.06-.94-2.06-.94-.94-2.06-.94 2.06-2.06.94zm-11 1L8.5 8.5l.94-2.06 2.06-.94-2.06-.94L8.5 2.5l-.94 2.06-2.06.94zm10 10l.94 2.06.94-2.06 2.06-.94-2.06-.94-.94-2.06-.94 2.06-2.06.94z\"/><path d=\"M17.41 7.96l-1.37-1.37c-.4-.4-.92-.59-1.43-.59-.52 0-1.04.2-1.43.59L10.3 9.45l-7.72 7.72c-.78.78-.78 2.05 0 2.83L4 21.41c.39.39.9.59 1.41.59.51 0 1.02-.2 1.41-.59l7.78-7.78 2.81-2.81c.8-.78.8-2.07 0-2.86zM5.41 20L4 18.59l7.72-7.72 1.47 1.35L5.41 20z\"/>\n",
              "  </svg>\n",
              "      </button>\n",
              "      \n",
              "  <style>\n",
              "    .colab-df-container {\n",
              "      display:flex;\n",
              "      flex-wrap:wrap;\n",
              "      gap: 12px;\n",
              "    }\n",
              "\n",
              "    .colab-df-convert {\n",
              "      background-color: #E8F0FE;\n",
              "      border: none;\n",
              "      border-radius: 50%;\n",
              "      cursor: pointer;\n",
              "      display: none;\n",
              "      fill: #1967D2;\n",
              "      height: 32px;\n",
              "      padding: 0 0 0 0;\n",
              "      width: 32px;\n",
              "    }\n",
              "\n",
              "    .colab-df-convert:hover {\n",
              "      background-color: #E2EBFA;\n",
              "      box-shadow: 0px 1px 2px rgba(60, 64, 67, 0.3), 0px 1px 3px 1px rgba(60, 64, 67, 0.15);\n",
              "      fill: #174EA6;\n",
              "    }\n",
              "\n",
              "    [theme=dark] .colab-df-convert {\n",
              "      background-color: #3B4455;\n",
              "      fill: #D2E3FC;\n",
              "    }\n",
              "\n",
              "    [theme=dark] .colab-df-convert:hover {\n",
              "      background-color: #434B5C;\n",
              "      box-shadow: 0px 1px 3px 1px rgba(0, 0, 0, 0.15);\n",
              "      filter: drop-shadow(0px 1px 2px rgba(0, 0, 0, 0.3));\n",
              "      fill: #FFFFFF;\n",
              "    }\n",
              "  </style>\n",
              "\n",
              "      <script>\n",
              "        const buttonEl =\n",
              "          document.querySelector('#df-367ed3ff-8bf3-491e-a771-cdaa1bc5f293 button.colab-df-convert');\n",
              "        buttonEl.style.display =\n",
              "          google.colab.kernel.accessAllowed ? 'block' : 'none';\n",
              "\n",
              "        async function convertToInteractive(key) {\n",
              "          const element = document.querySelector('#df-367ed3ff-8bf3-491e-a771-cdaa1bc5f293');\n",
              "          const dataTable =\n",
              "            await google.colab.kernel.invokeFunction('convertToInteractive',\n",
              "                                                     [key], {});\n",
              "          if (!dataTable) return;\n",
              "\n",
              "          const docLinkHtml = 'Like what you see? Visit the ' +\n",
              "            '<a target=\"_blank\" href=https://colab.research.google.com/notebooks/data_table.ipynb>data table notebook</a>'\n",
              "            + ' to learn more about interactive tables.';\n",
              "          element.innerHTML = '';\n",
              "          dataTable['output_type'] = 'display_data';\n",
              "          await google.colab.output.renderOutput(dataTable, element);\n",
              "          const docLink = document.createElement('div');\n",
              "          docLink.innerHTML = docLinkHtml;\n",
              "          element.appendChild(docLink);\n",
              "        }\n",
              "      </script>\n",
              "    </div>\n",
              "  </div>\n",
              "  "
            ]
          },
          "metadata": {},
          "execution_count": 10
        }
      ]
    },
    {
      "cell_type": "code",
      "source": [
        "y=data.iloc[:,-1:]\n",
        "y.head()"
      ],
      "metadata": {
        "colab": {
          "base_uri": "https://localhost:8080/",
          "height": 206
        },
        "id": "cTBO5qGScJzG",
        "outputId": "54697189-eebf-4397-fa68-9beba0cac709"
      },
      "execution_count": null,
      "outputs": [
        {
          "output_type": "execute_result",
          "data": {
            "text/plain": [
              "   Result\n",
              "0       0\n",
              "1       0\n",
              "2       0\n",
              "3       0\n",
              "4       1"
            ],
            "text/html": [
              "\n",
              "  <div id=\"df-ce048b92-1ef9-49b8-87e2-b7b44c992324\">\n",
              "    <div class=\"colab-df-container\">\n",
              "      <div>\n",
              "<style scoped>\n",
              "    .dataframe tbody tr th:only-of-type {\n",
              "        vertical-align: middle;\n",
              "    }\n",
              "\n",
              "    .dataframe tbody tr th {\n",
              "        vertical-align: top;\n",
              "    }\n",
              "\n",
              "    .dataframe thead th {\n",
              "        text-align: right;\n",
              "    }\n",
              "</style>\n",
              "<table border=\"1\" class=\"dataframe\">\n",
              "  <thead>\n",
              "    <tr style=\"text-align: right;\">\n",
              "      <th></th>\n",
              "      <th>Result</th>\n",
              "    </tr>\n",
              "  </thead>\n",
              "  <tbody>\n",
              "    <tr>\n",
              "      <th>0</th>\n",
              "      <td>0</td>\n",
              "    </tr>\n",
              "    <tr>\n",
              "      <th>1</th>\n",
              "      <td>0</td>\n",
              "    </tr>\n",
              "    <tr>\n",
              "      <th>2</th>\n",
              "      <td>0</td>\n",
              "    </tr>\n",
              "    <tr>\n",
              "      <th>3</th>\n",
              "      <td>0</td>\n",
              "    </tr>\n",
              "    <tr>\n",
              "      <th>4</th>\n",
              "      <td>1</td>\n",
              "    </tr>\n",
              "  </tbody>\n",
              "</table>\n",
              "</div>\n",
              "      <button class=\"colab-df-convert\" onclick=\"convertToInteractive('df-ce048b92-1ef9-49b8-87e2-b7b44c992324')\"\n",
              "              title=\"Convert this dataframe to an interactive table.\"\n",
              "              style=\"display:none;\">\n",
              "        \n",
              "  <svg xmlns=\"http://www.w3.org/2000/svg\" height=\"24px\"viewBox=\"0 0 24 24\"\n",
              "       width=\"24px\">\n",
              "    <path d=\"M0 0h24v24H0V0z\" fill=\"none\"/>\n",
              "    <path d=\"M18.56 5.44l.94 2.06.94-2.06 2.06-.94-2.06-.94-.94-2.06-.94 2.06-2.06.94zm-11 1L8.5 8.5l.94-2.06 2.06-.94-2.06-.94L8.5 2.5l-.94 2.06-2.06.94zm10 10l.94 2.06.94-2.06 2.06-.94-2.06-.94-.94-2.06-.94 2.06-2.06.94z\"/><path d=\"M17.41 7.96l-1.37-1.37c-.4-.4-.92-.59-1.43-.59-.52 0-1.04.2-1.43.59L10.3 9.45l-7.72 7.72c-.78.78-.78 2.05 0 2.83L4 21.41c.39.39.9.59 1.41.59.51 0 1.02-.2 1.41-.59l7.78-7.78 2.81-2.81c.8-.78.8-2.07 0-2.86zM5.41 20L4 18.59l7.72-7.72 1.47 1.35L5.41 20z\"/>\n",
              "  </svg>\n",
              "      </button>\n",
              "      \n",
              "  <style>\n",
              "    .colab-df-container {\n",
              "      display:flex;\n",
              "      flex-wrap:wrap;\n",
              "      gap: 12px;\n",
              "    }\n",
              "\n",
              "    .colab-df-convert {\n",
              "      background-color: #E8F0FE;\n",
              "      border: none;\n",
              "      border-radius: 50%;\n",
              "      cursor: pointer;\n",
              "      display: none;\n",
              "      fill: #1967D2;\n",
              "      height: 32px;\n",
              "      padding: 0 0 0 0;\n",
              "      width: 32px;\n",
              "    }\n",
              "\n",
              "    .colab-df-convert:hover {\n",
              "      background-color: #E2EBFA;\n",
              "      box-shadow: 0px 1px 2px rgba(60, 64, 67, 0.3), 0px 1px 3px 1px rgba(60, 64, 67, 0.15);\n",
              "      fill: #174EA6;\n",
              "    }\n",
              "\n",
              "    [theme=dark] .colab-df-convert {\n",
              "      background-color: #3B4455;\n",
              "      fill: #D2E3FC;\n",
              "    }\n",
              "\n",
              "    [theme=dark] .colab-df-convert:hover {\n",
              "      background-color: #434B5C;\n",
              "      box-shadow: 0px 1px 3px 1px rgba(0, 0, 0, 0.15);\n",
              "      filter: drop-shadow(0px 1px 2px rgba(0, 0, 0, 0.3));\n",
              "      fill: #FFFFFF;\n",
              "    }\n",
              "  </style>\n",
              "\n",
              "      <script>\n",
              "        const buttonEl =\n",
              "          document.querySelector('#df-ce048b92-1ef9-49b8-87e2-b7b44c992324 button.colab-df-convert');\n",
              "        buttonEl.style.display =\n",
              "          google.colab.kernel.accessAllowed ? 'block' : 'none';\n",
              "\n",
              "        async function convertToInteractive(key) {\n",
              "          const element = document.querySelector('#df-ce048b92-1ef9-49b8-87e2-b7b44c992324');\n",
              "          const dataTable =\n",
              "            await google.colab.kernel.invokeFunction('convertToInteractive',\n",
              "                                                     [key], {});\n",
              "          if (!dataTable) return;\n",
              "\n",
              "          const docLinkHtml = 'Like what you see? Visit the ' +\n",
              "            '<a target=\"_blank\" href=https://colab.research.google.com/notebooks/data_table.ipynb>data table notebook</a>'\n",
              "            + ' to learn more about interactive tables.';\n",
              "          element.innerHTML = '';\n",
              "          dataTable['output_type'] = 'display_data';\n",
              "          await google.colab.output.renderOutput(dataTable, element);\n",
              "          const docLink = document.createElement('div');\n",
              "          docLink.innerHTML = docLinkHtml;\n",
              "          element.appendChild(docLink);\n",
              "        }\n",
              "      </script>\n",
              "    </div>\n",
              "  </div>\n",
              "  "
            ]
          },
          "metadata": {},
          "execution_count": 11
        }
      ]
    },
    {
      "cell_type": "code",
      "source": [
        "model_knn_uc = KNeighborsClassifier(n_neighbors=3)\n",
        "model_knn_bes = KNeighborsClassifier(n_neighbors=5)"
      ],
      "metadata": {
        "id": "V7n6a3CHcVZR"
      },
      "execution_count": null,
      "outputs": []
    },
    {
      "cell_type": "code",
      "source": [
        "model_logReg = LogisticRegression(random_state=0)\n",
        "model_naiveBayes = GaussianNB()\n",
        "model_decTree = tree.DecisionTreeClassifier()"
      ],
      "metadata": {
        "id": "ZNoTv7L0cf-d"
      },
      "execution_count": null,
      "outputs": []
    },
    {
      "cell_type": "code",
      "source": [
        "model_randomForest_elli = RandomForestClassifier(n_estimators=50)\n",
        "model_randomForest_yuz = RandomForestClassifier(n_estimators=100)"
      ],
      "metadata": {
        "id": "lYHln4bIcihA"
      },
      "execution_count": null,
      "outputs": []
    },
    {
      "cell_type": "code",
      "source": [
        "model_svm_rbf = SVC(kernel=\"rbf\")\n",
        "model_svm_linear = SVC(kernel=\"linear\")"
      ],
      "metadata": {
        "id": "q6ZBTLZaclUc"
      },
      "execution_count": null,
      "outputs": []
    },
    {
      "cell_type": "markdown",
      "source": [
        "### Train-Test Ayrımı"
      ],
      "metadata": {
        "id": "bYI9FRrYc20q"
      }
    },
    {
      "cell_type": "markdown",
      "source": [
        "0.15, 0.2 ve 0.3 oranlarında test kümesi ayrıldı."
      ],
      "metadata": {
        "id": "Bp-UFyo8c9No"
      }
    },
    {
      "cell_type": "code",
      "source": [
        "x_train_1, x_test_1, y_train_1, y_test_1 = train_test_split( x, y, test_size=0.15, random_state=0)\n",
        "x_train_2, x_test_2, y_train_2, y_test_2 = train_test_split( x, y, test_size=0.2, random_state=0)\n",
        "x_train_3, x_test_3, y_train_3, y_test_3 = train_test_split( x, y, test_size=0.3, random_state=0)"
      ],
      "metadata": {
        "id": "zF83vxg8cpkg"
      },
      "execution_count": null,
      "outputs": []
    },
    {
      "cell_type": "code",
      "source": [
        "loo = LeaveOneOut()\n",
        "kfold_5 = KFold(5)\n",
        "kfold_10 = KFold(10)"
      ],
      "metadata": {
        "id": "sVbTP4C4cpnl"
      },
      "execution_count": null,
      "outputs": []
    },
    {
      "cell_type": "markdown",
      "source": [
        "### İş yükünü azaltmak için oluşturulan fonksiyonlar"
      ],
      "metadata": {
        "id": "h7_0YrIHqp0I"
      }
    },
    {
      "cell_type": "code",
      "source": [
        "def cv_skor_yaz(model, x, y):\n",
        "  score_loo = cross_val_score(model, x, y, scoring='accuracy',\n",
        "                          cv=loo)\n",
        "  print(\"Leave One Out çapraz doğrulama skoru : \", statistics.mean(score_loo))\n",
        "  score_kfold_5 = cross_val_score(model, x, y, scoring='accuracy',\n",
        "                             cv=kfold_5, n_jobs=-1)\n",
        "  score_kfold_10 = cross_val_score(model, x, y, scoring='accuracy',\n",
        "                             cv=kfold_10, n_jobs=-1)\n",
        "  print(\"5 katlı çapraz doğrulama skoru : \", statistics.mean(score_kfold_5))\n",
        "  print(\"10 katlı çapraz doğrulama skoru : \", statistics.mean(score_kfold_10))\n",
        "  "
      ],
      "metadata": {
        "id": "K1-d6WL0cpqf"
      },
      "execution_count": null,
      "outputs": []
    },
    {
      "cell_type": "code",
      "source": [
        "def metrik_yaz(y_test, y_pred):\n",
        "    print(\"Confusion Matris : \\n\",confusion_matrix(y_test,y_pred))\n",
        "    print(\"Classification Report : \\n\",classification_report(y_test,y_pred))\n",
        "    print(\"Accuracy Score : \",accuracy_score(y_test,y_pred))\n",
        "    print(\"F1 Score : \",f1_score(y_test,y_pred, average=None))\n",
        "    "
      ],
      "metadata": {
        "id": "ulcPuPXQcpt3"
      },
      "execution_count": null,
      "outputs": []
    },
    {
      "cell_type": "code",
      "source": [
        "def hepsi_egit(x_train_1, y_train_1):\n",
        "  model_knn_uc.fit(x_train_1, y_train_1)\n",
        "  model_knn_bes.fit(x_train_1, y_train_1)\n",
        "  model_logReg.fit(x_train_1, y_train_1)\n",
        "  model_decTree.fit(x_train_1, y_train_1)\n",
        "  model_naiveBayes.fit(x_train_1, y_train_1)\n",
        "  model_randomForest_elli.fit(x_train_1, y_train_1)\n",
        "  model_randomForest_yuz.fit(x_train_1, y_train_1)\n",
        "  model_svm_rbf.fit(x_train_1, y_train_1)\n",
        "  model_svm_linear.fit(x_train_1, y_train_1)"
      ],
      "metadata": {
        "id": "N5zsLgk6cpxh"
      },
      "execution_count": null,
      "outputs": []
    },
    {
      "cell_type": "code",
      "source": [
        "def hepsi_tahmin(x_test):\n",
        "  y1 = model_knn_uc.predict(x_test)\n",
        "  y2 = model_knn_bes.predict(x_test)\n",
        "  y3 = model_logReg.predict(x_test)\n",
        "  y4 = model_decTree.predict(x_test)\n",
        "  y5 = model_naiveBayes.predict(x_test)\n",
        "  y6 = model_randomForest_elli.predict(x_test)\n",
        "  y7 = model_randomForest_yuz.predict(x_test)\n",
        "  y8 = model_svm_rbf.predict(x_test)\n",
        "  y9 = model_svm_linear.predict(x_test)\n",
        "  return y1, y2, y3, y4, y5, y6, y7, y8, y9"
      ],
      "metadata": {
        "id": "v-JGx31sf7lc"
      },
      "execution_count": null,
      "outputs": []
    },
    {
      "cell_type": "code",
      "source": [
        "def sonuclar(y_test):\n",
        "  print(\"------ÜÇ KOMŞULU KNN TEST SONUÇLARI---------\")\n",
        "  metrik_yaz(y_test, y_pred_knnUc)\n",
        "  print(\"------BEŞ KOMŞULU KNN TEST SONUÇLARI---------\")\n",
        "  metrik_yaz(y_test, y_pred_knnBes)\n",
        "  print(\"------LOJİSTİK REGRESYON TEST SONUÇLARI---------\")\n",
        "  metrik_yaz(y_test, y_pred_logReg)\n",
        "  print(\"------KARAR AĞACI TEST SONUÇLARI---------\")\n",
        "  metrik_yaz(y_test, y_pred_decTree)\n",
        "  print(\"------NAİVE BAYES TEST SONUÇLARI---------\")\n",
        "  metrik_yaz(y_test, y_pred_NB)\n",
        "  print(\"------50 ÜYELİ RANDOM FOREST TEST SONUÇLARI---------\")\n",
        "  metrik_yaz(y_test, y_pred_RF50)\n",
        "  print(\"------100 ÜYELİ RANDOM FOREST TEST SONUÇLARI---------\")\n",
        "  metrik_yaz(y_test, y_pred_RF100)\n",
        "  print(\"------RBF ÇEKİRDEKLİ SVM TEST SONUÇLARI---------\")\n",
        "  metrik_yaz(y_test, y_pred_svmRbf)\n",
        "  print(\"------LİNEAR ÇEKİRDEKLİ SVM TEST SONUÇLARI---------\")\n",
        "  metrik_yaz(y_test, y_pred_svmLin)"
      ],
      "metadata": {
        "id": "TmhkW7BckXLT"
      },
      "execution_count": null,
      "outputs": []
    },
    {
      "cell_type": "markdown",
      "source": [
        "### 0.15 oranında ayrılan test kümesi sonuçları"
      ],
      "metadata": {
        "id": "20l50LkSqKLF"
      }
    },
    {
      "cell_type": "code",
      "source": [
        "hepsi_egit(x_train_1, y_train_1)"
      ],
      "metadata": {
        "id": "dNMM4R2ehskT",
        "colab": {
          "base_uri": "https://localhost:8080/"
        },
        "outputId": "b241321b-f5ac-4d39-e962-87a77254901f"
      },
      "execution_count": null,
      "outputs": [
        {
          "output_type": "stream",
          "name": "stderr",
          "text": [
            "/usr/local/lib/python3.8/dist-packages/sklearn/neighbors/_classification.py:198: DataConversionWarning: A column-vector y was passed when a 1d array was expected. Please change the shape of y to (n_samples,), for example using ravel().\n",
            "  return self._fit(X, y)\n",
            "/usr/local/lib/python3.8/dist-packages/sklearn/neighbors/_classification.py:198: DataConversionWarning: A column-vector y was passed when a 1d array was expected. Please change the shape of y to (n_samples,), for example using ravel().\n",
            "  return self._fit(X, y)\n",
            "/usr/local/lib/python3.8/dist-packages/sklearn/utils/validation.py:993: DataConversionWarning: A column-vector y was passed when a 1d array was expected. Please change the shape of y to (n_samples, ), for example using ravel().\n",
            "  y = column_or_1d(y, warn=True)\n",
            "/usr/local/lib/python3.8/dist-packages/sklearn/utils/validation.py:993: DataConversionWarning: A column-vector y was passed when a 1d array was expected. Please change the shape of y to (n_samples, ), for example using ravel().\n",
            "  y = column_or_1d(y, warn=True)\n",
            "<ipython-input-21-3cabc3e12447>:7: DataConversionWarning: A column-vector y was passed when a 1d array was expected. Please change the shape of y to (n_samples,), for example using ravel().\n",
            "  model_randomForest_elli.fit(x_train_1, y_train_1)\n",
            "<ipython-input-21-3cabc3e12447>:8: DataConversionWarning: A column-vector y was passed when a 1d array was expected. Please change the shape of y to (n_samples,), for example using ravel().\n",
            "  model_randomForest_yuz.fit(x_train_1, y_train_1)\n",
            "/usr/local/lib/python3.8/dist-packages/sklearn/utils/validation.py:993: DataConversionWarning: A column-vector y was passed when a 1d array was expected. Please change the shape of y to (n_samples, ), for example using ravel().\n",
            "  y = column_or_1d(y, warn=True)\n",
            "/usr/local/lib/python3.8/dist-packages/sklearn/utils/validation.py:993: DataConversionWarning: A column-vector y was passed when a 1d array was expected. Please change the shape of y to (n_samples, ), for example using ravel().\n",
            "  y = column_or_1d(y, warn=True)\n"
          ]
        }
      ]
    },
    {
      "cell_type": "code",
      "source": [
        "y_pred_knnUc, y_pred_knnBes, y_pred_logReg, y_pred_decTree, y_pred_NB, y_pred_RF50, y_pred_RF100, y_pred_svmRbf, y_pred_svmLin = hepsi_tahmin(x_test_1)"
      ],
      "metadata": {
        "id": "ORqqN-Bdg6Kw"
      },
      "execution_count": null,
      "outputs": []
    },
    {
      "cell_type": "code",
      "source": [
        "sonuclar(y_test_1)"
      ],
      "metadata": {
        "id": "dJRwptefmEps",
        "colab": {
          "base_uri": "https://localhost:8080/"
        },
        "outputId": "d7ddb47a-3069-41ee-c3da-adde9dba381f"
      },
      "execution_count": null,
      "outputs": [
        {
          "output_type": "stream",
          "name": "stdout",
          "text": [
            "------ÜÇ KOMŞULU KNN TEST SONUÇLARI---------\n",
            "Confusion Matris : \n",
            " [[697  51]\n",
            " [ 20 891]]\n",
            "Classification Report : \n",
            "               precision    recall  f1-score   support\n",
            "\n",
            "           0       0.97      0.93      0.95       748\n",
            "           1       0.95      0.98      0.96       911\n",
            "\n",
            "    accuracy                           0.96      1659\n",
            "   macro avg       0.96      0.95      0.96      1659\n",
            "weighted avg       0.96      0.96      0.96      1659\n",
            "\n",
            "Accuracy Score :  0.9572031344183243\n",
            "F1 Score :  [0.95153584 0.96168376]\n",
            "------BEŞ KOMŞULU KNN TEST SONUÇLARI---------\n",
            "Confusion Matris : \n",
            " [[692  56]\n",
            " [ 26 885]]\n",
            "Classification Report : \n",
            "               precision    recall  f1-score   support\n",
            "\n",
            "           0       0.96      0.93      0.94       748\n",
            "           1       0.94      0.97      0.96       911\n",
            "\n",
            "    accuracy                           0.95      1659\n",
            "   macro avg       0.95      0.95      0.95      1659\n",
            "weighted avg       0.95      0.95      0.95      1659\n",
            "\n",
            "Accuracy Score :  0.9505726341169379\n",
            "F1 Score :  [0.94406548 0.95572354]\n",
            "------LOJİSTİK REGRESYON TEST SONUÇLARI---------\n",
            "Confusion Matris : \n",
            " [[644 104]\n",
            " [ 66 845]]\n",
            "Classification Report : \n",
            "               precision    recall  f1-score   support\n",
            "\n",
            "           0       0.91      0.86      0.88       748\n",
            "           1       0.89      0.93      0.91       911\n",
            "\n",
            "    accuracy                           0.90      1659\n",
            "   macro avg       0.90      0.89      0.90      1659\n",
            "weighted avg       0.90      0.90      0.90      1659\n",
            "\n",
            "Accuracy Score :  0.8975286317058468\n",
            "F1 Score :  [0.88340192 0.90860215]\n",
            "------KARAR AĞACI TEST SONUÇLARI---------\n",
            "Confusion Matris : \n",
            " [[706  42]\n",
            " [ 19 892]]\n",
            "Classification Report : \n",
            "               precision    recall  f1-score   support\n",
            "\n",
            "           0       0.97      0.94      0.96       748\n",
            "           1       0.96      0.98      0.97       911\n",
            "\n",
            "    accuracy                           0.96      1659\n",
            "   macro avg       0.96      0.96      0.96      1659\n",
            "weighted avg       0.96      0.96      0.96      1659\n",
            "\n",
            "Accuracy Score :  0.9632308619650392\n",
            "F1 Score :  [0.95858792 0.96693767]\n",
            "------NAİVE BAYES TEST SONUÇLARI---------\n",
            "Confusion Matris : \n",
            " [[748   0]\n",
            " [677 234]]\n",
            "Classification Report : \n",
            "               precision    recall  f1-score   support\n",
            "\n",
            "           0       0.52      1.00      0.69       748\n",
            "           1       1.00      0.26      0.41       911\n",
            "\n",
            "    accuracy                           0.59      1659\n",
            "   macro avg       0.76      0.63      0.55      1659\n",
            "weighted avg       0.79      0.59      0.53      1659\n",
            "\n",
            "Accuracy Score :  0.591922845087402\n",
            "F1 Score :  [0.68844915 0.40873362]\n",
            "------50 ÜYELİ RANDOM FOREST TEST SONUÇLARI---------\n",
            "Confusion Matris : \n",
            " [[702  46]\n",
            " [ 12 899]]\n",
            "Classification Report : \n",
            "               precision    recall  f1-score   support\n",
            "\n",
            "           0       0.98      0.94      0.96       748\n",
            "           1       0.95      0.99      0.97       911\n",
            "\n",
            "    accuracy                           0.97      1659\n",
            "   macro avg       0.97      0.96      0.96      1659\n",
            "weighted avg       0.97      0.97      0.96      1659\n",
            "\n",
            "Accuracy Score :  0.9650391802290537\n",
            "F1 Score :  [0.96032832 0.96875   ]\n",
            "------100 ÜYELİ RANDOM FOREST TEST SONUÇLARI---------\n",
            "Confusion Matris : \n",
            " [[702  46]\n",
            " [ 12 899]]\n",
            "Classification Report : \n",
            "               precision    recall  f1-score   support\n",
            "\n",
            "           0       0.98      0.94      0.96       748\n",
            "           1       0.95      0.99      0.97       911\n",
            "\n",
            "    accuracy                           0.97      1659\n",
            "   macro avg       0.97      0.96      0.96      1659\n",
            "weighted avg       0.97      0.97      0.96      1659\n",
            "\n",
            "Accuracy Score :  0.9650391802290537\n",
            "F1 Score :  [0.96032832 0.96875   ]\n",
            "------RBF ÇEKİRDEKLİ SVM TEST SONUÇLARI---------\n",
            "Confusion Matris : \n",
            " [[690  58]\n",
            " [ 37 874]]\n",
            "Classification Report : \n",
            "               precision    recall  f1-score   support\n",
            "\n",
            "           0       0.95      0.92      0.94       748\n",
            "           1       0.94      0.96      0.95       911\n",
            "\n",
            "    accuracy                           0.94      1659\n",
            "   macro avg       0.94      0.94      0.94      1659\n",
            "weighted avg       0.94      0.94      0.94      1659\n",
            "\n",
            "Accuracy Score :  0.9427365883062085\n",
            "F1 Score :  [0.93559322 0.94845361]\n",
            "------LİNEAR ÇEKİRDEKLİ SVM TEST SONUÇLARI---------\n",
            "Confusion Matris : \n",
            " [[627 121]\n",
            " [ 60 851]]\n",
            "Classification Report : \n",
            "               precision    recall  f1-score   support\n",
            "\n",
            "           0       0.91      0.84      0.87       748\n",
            "           1       0.88      0.93      0.90       911\n",
            "\n",
            "    accuracy                           0.89      1659\n",
            "   macro avg       0.89      0.89      0.89      1659\n",
            "weighted avg       0.89      0.89      0.89      1659\n",
            "\n",
            "Accuracy Score :  0.8908981314044605\n",
            "F1 Score :  [0.8738676  0.90387679]\n"
          ]
        }
      ]
    },
    {
      "cell_type": "markdown",
      "source": [
        "### 0.2 oranında ayrılan test kümesi sonuçları"
      ],
      "metadata": {
        "id": "iPr3Y1Z6qZwj"
      }
    },
    {
      "cell_type": "code",
      "source": [
        "hepsi_egit(x_train_2, y_train_2)"
      ],
      "metadata": {
        "id": "sksHFdLPpkGp",
        "colab": {
          "base_uri": "https://localhost:8080/"
        },
        "outputId": "d06dbffc-cb46-4265-9af0-eead62564b67"
      },
      "execution_count": null,
      "outputs": [
        {
          "output_type": "stream",
          "name": "stderr",
          "text": [
            "/usr/local/lib/python3.8/dist-packages/sklearn/neighbors/_classification.py:198: DataConversionWarning: A column-vector y was passed when a 1d array was expected. Please change the shape of y to (n_samples,), for example using ravel().\n",
            "  return self._fit(X, y)\n",
            "/usr/local/lib/python3.8/dist-packages/sklearn/neighbors/_classification.py:198: DataConversionWarning: A column-vector y was passed when a 1d array was expected. Please change the shape of y to (n_samples,), for example using ravel().\n",
            "  return self._fit(X, y)\n",
            "/usr/local/lib/python3.8/dist-packages/sklearn/utils/validation.py:993: DataConversionWarning: A column-vector y was passed when a 1d array was expected. Please change the shape of y to (n_samples, ), for example using ravel().\n",
            "  y = column_or_1d(y, warn=True)\n",
            "/usr/local/lib/python3.8/dist-packages/sklearn/utils/validation.py:993: DataConversionWarning: A column-vector y was passed when a 1d array was expected. Please change the shape of y to (n_samples, ), for example using ravel().\n",
            "  y = column_or_1d(y, warn=True)\n",
            "<ipython-input-21-3cabc3e12447>:7: DataConversionWarning: A column-vector y was passed when a 1d array was expected. Please change the shape of y to (n_samples,), for example using ravel().\n",
            "  model_randomForest_elli.fit(x_train_1, y_train_1)\n",
            "<ipython-input-21-3cabc3e12447>:8: DataConversionWarning: A column-vector y was passed when a 1d array was expected. Please change the shape of y to (n_samples,), for example using ravel().\n",
            "  model_randomForest_yuz.fit(x_train_1, y_train_1)\n",
            "/usr/local/lib/python3.8/dist-packages/sklearn/utils/validation.py:993: DataConversionWarning: A column-vector y was passed when a 1d array was expected. Please change the shape of y to (n_samples, ), for example using ravel().\n",
            "  y = column_or_1d(y, warn=True)\n",
            "/usr/local/lib/python3.8/dist-packages/sklearn/utils/validation.py:993: DataConversionWarning: A column-vector y was passed when a 1d array was expected. Please change the shape of y to (n_samples, ), for example using ravel().\n",
            "  y = column_or_1d(y, warn=True)\n"
          ]
        }
      ]
    },
    {
      "cell_type": "code",
      "source": [
        "y_pred_knnUc, y_pred_knnBes, y_pred_logReg, y_pred_decTree, y_pred_NB, y_pred_RF50, y_pred_RF100, y_pred_svmRbf, y_pred_svmLin = hepsi_tahmin(x_test_2)"
      ],
      "metadata": {
        "id": "N6LlxrT-ppIj"
      },
      "execution_count": null,
      "outputs": []
    },
    {
      "cell_type": "code",
      "source": [
        "sonuclar(y_test_2)"
      ],
      "metadata": {
        "id": "QJ2l0gO5ptPt",
        "colab": {
          "base_uri": "https://localhost:8080/"
        },
        "outputId": "4c24224b-e0f1-410d-c111-3965aa8d9984"
      },
      "execution_count": null,
      "outputs": [
        {
          "output_type": "stream",
          "name": "stdout",
          "text": [
            "------ÜÇ KOMŞULU KNN TEST SONUÇLARI---------\n",
            "Confusion Matris : \n",
            " [[ 948   66]\n",
            " [  36 1161]]\n",
            "Classification Report : \n",
            "               precision    recall  f1-score   support\n",
            "\n",
            "           0       0.96      0.93      0.95      1014\n",
            "           1       0.95      0.97      0.96      1197\n",
            "\n",
            "    accuracy                           0.95      2211\n",
            "   macro avg       0.95      0.95      0.95      2211\n",
            "weighted avg       0.95      0.95      0.95      2211\n",
            "\n",
            "Accuracy Score :  0.9538670284938942\n",
            "F1 Score :  [0.94894895 0.95792079]\n",
            "------BEŞ KOMŞULU KNN TEST SONUÇLARI---------\n",
            "Confusion Matris : \n",
            " [[ 946   68]\n",
            " [  38 1159]]\n",
            "Classification Report : \n",
            "               precision    recall  f1-score   support\n",
            "\n",
            "           0       0.96      0.93      0.95      1014\n",
            "           1       0.94      0.97      0.96      1197\n",
            "\n",
            "    accuracy                           0.95      2211\n",
            "   macro avg       0.95      0.95      0.95      2211\n",
            "weighted avg       0.95      0.95      0.95      2211\n",
            "\n",
            "Accuracy Score :  0.9520578923563998\n",
            "F1 Score :  [0.94694695 0.95627063]\n",
            "------LOJİSTİK REGRESYON TEST SONUÇLARI---------\n",
            "Confusion Matris : \n",
            " [[ 887  127]\n",
            " [  93 1104]]\n",
            "Classification Report : \n",
            "               precision    recall  f1-score   support\n",
            "\n",
            "           0       0.91      0.87      0.89      1014\n",
            "           1       0.90      0.92      0.91      1197\n",
            "\n",
            "    accuracy                           0.90      2211\n",
            "   macro avg       0.90      0.90      0.90      2211\n",
            "weighted avg       0.90      0.90      0.90      2211\n",
            "\n",
            "Accuracy Score :  0.900497512437811\n",
            "F1 Score :  [0.88966901 0.90939044]\n",
            "------KARAR AĞACI TEST SONUÇLARI---------\n",
            "Confusion Matris : \n",
            " [[ 958   56]\n",
            " [  27 1170]]\n",
            "Classification Report : \n",
            "               precision    recall  f1-score   support\n",
            "\n",
            "           0       0.97      0.94      0.96      1014\n",
            "           1       0.95      0.98      0.97      1197\n",
            "\n",
            "    accuracy                           0.96      2211\n",
            "   macro avg       0.96      0.96      0.96      2211\n",
            "weighted avg       0.96      0.96      0.96      2211\n",
            "\n",
            "Accuracy Score :  0.9624604251469923\n",
            "F1 Score :  [0.95847924 0.96574494]\n",
            "------NAİVE BAYES TEST SONUÇLARI---------\n",
            "Confusion Matris : \n",
            " [[1014    0]\n",
            " [ 886  311]]\n",
            "Classification Report : \n",
            "               precision    recall  f1-score   support\n",
            "\n",
            "           0       0.53      1.00      0.70      1014\n",
            "           1       1.00      0.26      0.41      1197\n",
            "\n",
            "    accuracy                           0.60      2211\n",
            "   macro avg       0.77      0.63      0.55      2211\n",
            "weighted avg       0.79      0.60      0.54      2211\n",
            "\n",
            "Accuracy Score :  0.5992763455450023\n",
            "F1 Score :  [0.69595058 0.41246684]\n",
            "------50 ÜYELİ RANDOM FOREST TEST SONUÇLARI---------\n",
            "Confusion Matris : \n",
            " [[ 964   50]\n",
            " [  15 1182]]\n",
            "Classification Report : \n",
            "               precision    recall  f1-score   support\n",
            "\n",
            "           0       0.98      0.95      0.97      1014\n",
            "           1       0.96      0.99      0.97      1197\n",
            "\n",
            "    accuracy                           0.97      2211\n",
            "   macro avg       0.97      0.97      0.97      2211\n",
            "weighted avg       0.97      0.97      0.97      2211\n",
            "\n",
            "Accuracy Score :  0.9706015377657169\n",
            "F1 Score :  [0.96738585 0.97324002]\n",
            "------100 ÜYELİ RANDOM FOREST TEST SONUÇLARI---------\n",
            "Confusion Matris : \n",
            " [[ 961   53]\n",
            " [  16 1181]]\n",
            "Classification Report : \n",
            "               precision    recall  f1-score   support\n",
            "\n",
            "           0       0.98      0.95      0.97      1014\n",
            "           1       0.96      0.99      0.97      1197\n",
            "\n",
            "    accuracy                           0.97      2211\n",
            "   macro avg       0.97      0.97      0.97      2211\n",
            "weighted avg       0.97      0.97      0.97      2211\n",
            "\n",
            "Accuracy Score :  0.9687924016282226\n",
            "F1 Score :  [0.96534405 0.97161662]\n",
            "------RBF ÇEKİRDEKLİ SVM TEST SONUÇLARI---------\n",
            "Confusion Matris : \n",
            " [[ 947   67]\n",
            " [  51 1146]]\n",
            "Classification Report : \n",
            "               precision    recall  f1-score   support\n",
            "\n",
            "           0       0.95      0.93      0.94      1014\n",
            "           1       0.94      0.96      0.95      1197\n",
            "\n",
            "    accuracy                           0.95      2211\n",
            "   macro avg       0.95      0.95      0.95      2211\n",
            "weighted avg       0.95      0.95      0.95      2211\n",
            "\n",
            "Accuracy Score :  0.9466304839439168\n",
            "F1 Score :  [0.94135189 0.95103734]\n",
            "------LİNEAR ÇEKİRDEKLİ SVM TEST SONUÇLARI---------\n",
            "Confusion Matris : \n",
            " [[ 856  158]\n",
            " [  86 1111]]\n",
            "Classification Report : \n",
            "               precision    recall  f1-score   support\n",
            "\n",
            "           0       0.91      0.84      0.88      1014\n",
            "           1       0.88      0.93      0.90      1197\n",
            "\n",
            "    accuracy                           0.89      2211\n",
            "   macro avg       0.89      0.89      0.89      2211\n",
            "weighted avg       0.89      0.89      0.89      2211\n",
            "\n",
            "Accuracy Score :  0.8896426956128448\n",
            "F1 Score :  [0.87525562 0.90105434]\n"
          ]
        }
      ]
    },
    {
      "cell_type": "markdown",
      "source": [
        "### 0.3 oranında ayrılan test kümesi sonuçları"
      ],
      "metadata": {
        "id": "tgw98p3Yqev6"
      }
    },
    {
      "cell_type": "code",
      "source": [
        "hepsi_egit(x_train_3, y_train_3)"
      ],
      "metadata": {
        "id": "dEIfXhZKp2ph",
        "colab": {
          "base_uri": "https://localhost:8080/"
        },
        "outputId": "36919198-f996-4673-e1cf-7b18489e39a7"
      },
      "execution_count": null,
      "outputs": [
        {
          "output_type": "stream",
          "name": "stderr",
          "text": [
            "/usr/local/lib/python3.8/dist-packages/sklearn/neighbors/_classification.py:198: DataConversionWarning: A column-vector y was passed when a 1d array was expected. Please change the shape of y to (n_samples,), for example using ravel().\n",
            "  return self._fit(X, y)\n",
            "/usr/local/lib/python3.8/dist-packages/sklearn/neighbors/_classification.py:198: DataConversionWarning: A column-vector y was passed when a 1d array was expected. Please change the shape of y to (n_samples,), for example using ravel().\n",
            "  return self._fit(X, y)\n",
            "/usr/local/lib/python3.8/dist-packages/sklearn/utils/validation.py:993: DataConversionWarning: A column-vector y was passed when a 1d array was expected. Please change the shape of y to (n_samples, ), for example using ravel().\n",
            "  y = column_or_1d(y, warn=True)\n",
            "/usr/local/lib/python3.8/dist-packages/sklearn/utils/validation.py:993: DataConversionWarning: A column-vector y was passed when a 1d array was expected. Please change the shape of y to (n_samples, ), for example using ravel().\n",
            "  y = column_or_1d(y, warn=True)\n",
            "<ipython-input-21-3cabc3e12447>:7: DataConversionWarning: A column-vector y was passed when a 1d array was expected. Please change the shape of y to (n_samples,), for example using ravel().\n",
            "  model_randomForest_elli.fit(x_train_1, y_train_1)\n",
            "<ipython-input-21-3cabc3e12447>:8: DataConversionWarning: A column-vector y was passed when a 1d array was expected. Please change the shape of y to (n_samples,), for example using ravel().\n",
            "  model_randomForest_yuz.fit(x_train_1, y_train_1)\n",
            "/usr/local/lib/python3.8/dist-packages/sklearn/utils/validation.py:993: DataConversionWarning: A column-vector y was passed when a 1d array was expected. Please change the shape of y to (n_samples, ), for example using ravel().\n",
            "  y = column_or_1d(y, warn=True)\n",
            "/usr/local/lib/python3.8/dist-packages/sklearn/utils/validation.py:993: DataConversionWarning: A column-vector y was passed when a 1d array was expected. Please change the shape of y to (n_samples, ), for example using ravel().\n",
            "  y = column_or_1d(y, warn=True)\n"
          ]
        }
      ]
    },
    {
      "cell_type": "code",
      "source": [
        "y_pred_knnUc, y_pred_knnBes, y_pred_logReg, y_pred_decTree, y_pred_NB, y_pred_RF50, y_pred_RF100, y_pred_svmRbf, y_pred_svmLin = hepsi_tahmin(x_test_3)"
      ],
      "metadata": {
        "id": "J3n-5ejOp7Pq"
      },
      "execution_count": null,
      "outputs": []
    },
    {
      "cell_type": "code",
      "source": [
        "sonuclar(y_test_3)"
      ],
      "metadata": {
        "colab": {
          "base_uri": "https://localhost:8080/"
        },
        "id": "8aVIj3tFp-H0",
        "outputId": "919446c3-e3e9-4767-e611-472943635814"
      },
      "execution_count": null,
      "outputs": [
        {
          "output_type": "stream",
          "name": "stdout",
          "text": [
            "------ÜÇ KOMŞULU KNN TEST SONUÇLARI---------\n",
            "Confusion Matris : \n",
            " [[1406   92]\n",
            " [  58 1761]]\n",
            "Classification Report : \n",
            "               precision    recall  f1-score   support\n",
            "\n",
            "           0       0.96      0.94      0.95      1498\n",
            "           1       0.95      0.97      0.96      1819\n",
            "\n",
            "    accuracy                           0.95      3317\n",
            "   macro avg       0.96      0.95      0.95      3317\n",
            "weighted avg       0.95      0.95      0.95      3317\n",
            "\n",
            "Accuracy Score :  0.9547784142297256\n",
            "F1 Score :  [0.94935854 0.95915033]\n",
            "------BEŞ KOMŞULU KNN TEST SONUÇLARI---------\n",
            "Confusion Matris : \n",
            " [[1408   90]\n",
            " [  59 1760]]\n",
            "Classification Report : \n",
            "               precision    recall  f1-score   support\n",
            "\n",
            "           0       0.96      0.94      0.95      1498\n",
            "           1       0.95      0.97      0.96      1819\n",
            "\n",
            "    accuracy                           0.96      3317\n",
            "   macro avg       0.96      0.95      0.95      3317\n",
            "weighted avg       0.96      0.96      0.96      3317\n",
            "\n",
            "Accuracy Score :  0.9550798914681942\n",
            "F1 Score :  [0.94974705 0.95938948]\n",
            "------LOJİSTİK REGRESYON TEST SONUÇLARI---------\n",
            "Confusion Matris : \n",
            " [[1315  183]\n",
            " [ 133 1686]]\n",
            "Classification Report : \n",
            "               precision    recall  f1-score   support\n",
            "\n",
            "           0       0.91      0.88      0.89      1498\n",
            "           1       0.90      0.93      0.91      1819\n",
            "\n",
            "    accuracy                           0.90      3317\n",
            "   macro avg       0.91      0.90      0.90      3317\n",
            "weighted avg       0.90      0.90      0.90      3317\n",
            "\n",
            "Accuracy Score :  0.9047331926439554\n",
            "F1 Score :  [0.89273591 0.9143167 ]\n",
            "------KARAR AĞACI TEST SONUÇLARI---------\n",
            "Confusion Matris : \n",
            " [[1428   70]\n",
            " [  39 1780]]\n",
            "Classification Report : \n",
            "               precision    recall  f1-score   support\n",
            "\n",
            "           0       0.97      0.95      0.96      1498\n",
            "           1       0.96      0.98      0.97      1819\n",
            "\n",
            "    accuracy                           0.97      3317\n",
            "   macro avg       0.97      0.97      0.97      3317\n",
            "weighted avg       0.97      0.97      0.97      3317\n",
            "\n",
            "Accuracy Score :  0.967138981006934\n",
            "F1 Score :  [0.96323777 0.97029163]\n",
            "------NAİVE BAYES TEST SONUÇLARI---------\n",
            "Confusion Matris : \n",
            " [[1498    0]\n",
            " [1350  469]]\n",
            "Classification Report : \n",
            "               precision    recall  f1-score   support\n",
            "\n",
            "           0       0.53      1.00      0.69      1498\n",
            "           1       1.00      0.26      0.41      1819\n",
            "\n",
            "    accuracy                           0.59      3317\n",
            "   macro avg       0.76      0.63      0.55      3317\n",
            "weighted avg       0.79      0.59      0.54      3317\n",
            "\n",
            "Accuracy Score :  0.5930057280675309\n",
            "F1 Score :  [0.68936954 0.40996503]\n",
            "------50 ÜYELİ RANDOM FOREST TEST SONUÇLARI---------\n",
            "Confusion Matris : \n",
            " [[1432   66]\n",
            " [  33 1786]]\n",
            "Classification Report : \n",
            "               precision    recall  f1-score   support\n",
            "\n",
            "           0       0.98      0.96      0.97      1498\n",
            "           1       0.96      0.98      0.97      1819\n",
            "\n",
            "    accuracy                           0.97      3317\n",
            "   macro avg       0.97      0.97      0.97      3317\n",
            "weighted avg       0.97      0.97      0.97      3317\n",
            "\n",
            "Accuracy Score :  0.9701537533916189\n",
            "F1 Score :  [0.96658792 0.97303187]\n",
            "------100 ÜYELİ RANDOM FOREST TEST SONUÇLARI---------\n",
            "Confusion Matris : \n",
            " [[1426   72]\n",
            " [  26 1793]]\n",
            "Classification Report : \n",
            "               precision    recall  f1-score   support\n",
            "\n",
            "           0       0.98      0.95      0.97      1498\n",
            "           1       0.96      0.99      0.97      1819\n",
            "\n",
            "    accuracy                           0.97      3317\n",
            "   macro avg       0.97      0.97      0.97      3317\n",
            "weighted avg       0.97      0.97      0.97      3317\n",
            "\n",
            "Accuracy Score :  0.9704552306300874\n",
            "F1 Score :  [0.96677966 0.97339848]\n",
            "------RBF ÇEKİRDEKLİ SVM TEST SONUÇLARI---------\n",
            "Confusion Matris : \n",
            " [[1392  106]\n",
            " [  81 1738]]\n",
            "Classification Report : \n",
            "               precision    recall  f1-score   support\n",
            "\n",
            "           0       0.95      0.93      0.94      1498\n",
            "           1       0.94      0.96      0.95      1819\n",
            "\n",
            "    accuracy                           0.94      3317\n",
            "   macro avg       0.94      0.94      0.94      3317\n",
            "weighted avg       0.94      0.94      0.94      3317\n",
            "\n",
            "Accuracy Score :  0.9436237564063913\n",
            "F1 Score :  [0.93705823 0.94894895]\n",
            "------LİNEAR ÇEKİRDEKLİ SVM TEST SONUÇLARI---------\n",
            "Confusion Matris : \n",
            " [[1264  234]\n",
            " [ 121 1698]]\n",
            "Classification Report : \n",
            "               precision    recall  f1-score   support\n",
            "\n",
            "           0       0.91      0.84      0.88      1498\n",
            "           1       0.88      0.93      0.91      1819\n",
            "\n",
            "    accuracy                           0.89      3317\n",
            "   macro avg       0.90      0.89      0.89      3317\n",
            "weighted avg       0.89      0.89      0.89      3317\n",
            "\n",
            "Accuracy Score :  0.8929755803436841\n",
            "F1 Score :  [0.87686438 0.90535857]\n"
          ]
        }
      ]
    },
    {
      "cell_type": "code",
      "source": [
        "cv_skor_yaz(model_knn_uc,x_test_1 ,y_test_1.values.ravel())"
      ],
      "metadata": {
        "id": "magIK7Hqs3yc",
        "colab": {
          "base_uri": "https://localhost:8080/"
        },
        "outputId": "ff5cdda5-5d5a-41aa-dee7-ad255e2335c4"
      },
      "execution_count": null,
      "outputs": [
        {
          "output_type": "stream",
          "name": "stdout",
          "text": [
            "Leave One Out çapraz doğrulama skoru :  0.9095840867992767\n",
            "5 katlı çapraz doğrulama skoru :  0.9029592691005714\n",
            "10 katlı çapraz doğrulama skoru :  0.9035596933187294\n"
          ]
        }
      ]
    },
    {
      "cell_type": "code",
      "source": [
        "cv_skor_yaz(model_knn_bes,x_test_1 ,y_test_1.values.ravel())"
      ],
      "metadata": {
        "colab": {
          "base_uri": "https://localhost:8080/"
        },
        "id": "zk8JJ3YHtITK",
        "outputId": "d0e541f2-b99b-4562-fa40-1e8fae5a4e05"
      },
      "execution_count": null,
      "outputs": [
        {
          "output_type": "stream",
          "name": "stdout",
          "text": [
            "Leave One Out çapraz doğrulama skoru :  0.9156118143459916\n",
            "5 katlı çapraz doğrulama skoru :  0.9114057438212062\n",
            "10 katlı çapraz doğrulama skoru :  0.9090032858707557\n"
          ]
        }
      ]
    },
    {
      "cell_type": "code",
      "source": [
        "cv_skor_yaz(model_logReg,x_test_1 ,y_test_1.values.ravel())"
      ],
      "metadata": {
        "colab": {
          "base_uri": "https://localhost:8080/"
        },
        "id": "OA_DkM_jv096",
        "outputId": "64c3dff5-3c50-4783-ac43-8f50a1230c93"
      },
      "execution_count": null,
      "outputs": [
        {
          "output_type": "stream",
          "name": "stdout",
          "text": [
            "Leave One Out çapraz doğrulama skoru :  0.9041591320072333\n",
            "5 katlı çapraz doğrulama skoru :  0.9029556291631784\n",
            "10 katlı çapraz doğrulama skoru :  0.9017415115005476\n"
          ]
        }
      ]
    },
    {
      "cell_type": "code",
      "source": [
        "cv_skor_yaz(model_decTree,x_test_1 ,y_test_1.values.ravel()) "
      ],
      "metadata": {
        "id": "yvFXhAU2v2bo",
        "colab": {
          "base_uri": "https://localhost:8080/"
        },
        "outputId": "f0e4d285-e829-4495-f0e9-9df41c7f55ef"
      },
      "execution_count": null,
      "outputs": [
        {
          "output_type": "stream",
          "name": "stdout",
          "text": [
            "Leave One Out çapraz doğrulama skoru :  0.9119951778179626\n",
            "5 katlı çapraz doğrulama skoru :  0.9101972846067048\n",
            "10 katlı çapraz doğrulama skoru :  0.8987477181453085\n"
          ]
        }
      ]
    },
    {
      "cell_type": "code",
      "source": [
        "cv_skor_yaz(model_randomForest_elli ,x_test_1 ,y_test_1.values.ravel()) "
      ],
      "metadata": {
        "colab": {
          "base_uri": "https://localhost:8080/"
        },
        "id": "lOH92aD1Im2F",
        "outputId": "6e97a299-65a1-414f-eda7-0c777496f98a"
      },
      "execution_count": null,
      "outputs": [
        {
          "output_type": "stream",
          "name": "stdout",
          "text": [
            "Leave One Out çapraz doğrulama skoru :  0.9367088607594937\n",
            "5 katlı çapraz doğrulama skoru :  0.9355094092381611\n",
            "10 katlı çapraz doğrulama skoru :  0.9349142022635999\n"
          ]
        }
      ]
    },
    {
      "cell_type": "code",
      "source": [
        "cv_skor_yaz(model_randomForest_yuz,x_test_1 ,y_test_1.values.ravel()) "
      ],
      "metadata": {
        "colab": {
          "base_uri": "https://localhost:8080/"
        },
        "id": "EGsXSbAjIm5O",
        "outputId": "035a3ec2-30a6-4d9c-f30b-8015c93f2572"
      },
      "execution_count": null,
      "outputs": [
        {
          "output_type": "stream",
          "name": "stdout",
          "text": [
            "Leave One Out çapraz doğrulama skoru :  0.945750452079566\n",
            "5 katlı çapraz doğrulama skoru :  0.9361118188767154\n",
            "10 katlı çapraz doğrulama skoru :  0.9379225994888646\n"
          ]
        }
      ]
    },
    {
      "cell_type": "code",
      "source": [
        "cv_skor_yaz(model_naiveBayes,x_test_1 ,y_test_1.values.ravel()) "
      ],
      "metadata": {
        "colab": {
          "base_uri": "https://localhost:8080/"
        },
        "id": "0JP6iYTMIryx",
        "outputId": "a8f882b2-cf66-494b-bf2d-70da2a3bf916"
      },
      "execution_count": null,
      "outputs": [
        {
          "output_type": "stream",
          "name": "stdout",
          "text": [
            "Leave One Out çapraz doğrulama skoru :  0.5804701627486437\n",
            "5 katlı çapraz doğrulama skoru :  0.5810559458377316\n",
            "10 katlı çapraz doğrulama skoru :  0.5810587805768529\n"
          ]
        }
      ]
    },
    {
      "cell_type": "code",
      "source": [
        "cv_skor_yaz(model_svm_rbf,x_test_1 ,y_test_1.values.ravel()) "
      ],
      "metadata": {
        "colab": {
          "base_uri": "https://localhost:8080/"
        },
        "id": "QuVzioesIsgB",
        "outputId": "e8be097d-f14c-40f0-8ee8-7dc861f18220"
      },
      "execution_count": null,
      "outputs": [
        {
          "output_type": "stream",
          "name": "stdout",
          "text": [
            "Leave One Out çapraz doğrulama skoru :  0.9144062688366486\n",
            "5 katlı çapraz doğrulama skoru :  0.9132075128307793\n",
            "10 katlı çapraz doğrulama skoru :  0.9138006571741512\n"
          ]
        }
      ]
    },
    {
      "cell_type": "code",
      "source": [
        "cv_skor_yaz(model_svm_linear,x_test_1 ,y_test_1.values.ravel()) "
      ],
      "metadata": {
        "colab": {
          "base_uri": "https://localhost:8080/"
        },
        "id": "VYkojNFkItKy",
        "outputId": "33fac62b-7b65-420b-ba70-87562cfad8a8"
      },
      "execution_count": null,
      "outputs": [
        {
          "output_type": "stream",
          "name": "stdout",
          "text": [
            "Leave One Out çapraz doğrulama skoru :  0.9083785412899337\n",
            "5 katlı çapraz doğrulama skoru :  0.9065719069632002\n",
            "10 katlı çapraz doğrulama skoru :  0.9059620299379335\n"
          ]
        }
      ]
    }
  ]
}